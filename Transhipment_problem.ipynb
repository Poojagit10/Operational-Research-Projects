{
 "cells": [
  {
   "cell_type": "markdown",
   "id": "e15bc59c-df65-4372-91ac-d33d39dcdfa0",
   "metadata": {},
   "source": [
    "# Supply Chain Optimization using a Transshipment Model"
   ]
  },
  {
   "cell_type": "markdown",
   "id": "aa92222d-40dd-4371-a21e-c13112214a91",
   "metadata": {},
   "source": [
    "## 1. Project Goal\r\n",
    "\r\n",
    "The primary goal of this project is to determine the most cost-effective shipping strategy for a multi-echelon distribution network. We will find the optimal flow of goods from factories, through intermediate warehouses (transshipment points), to final customer locations, with the objective of **minimizing the total transportation cost**."
   ]
  },
  {
   "cell_type": "markdown",
   "id": "a651142b-3ca1-47e2-aea4-a8b307555470",
   "metadata": {},
   "source": [
    "<img src=\"licensed-image1.jpg\" alt=\"A supply chain network diagram\" height=\"1\">"
   ]
  },
  {
   "cell_type": "markdown",
   "id": "1afd7e91-2085-4323-beea-413b7a2a3e41",
   "metadata": {},
   "source": [
    "## 2. The Business Problem\n",
    "\n",
    "A company operates a supply chain consisting of multiple factories, regional warehouses, and a wide customer base. The logistics network has the following characteristics:\n",
    "\n",
    "- **Factories**: Each factory has a limited production/supply capacity.\n",
    "- **Warehouses**: Each warehouse acts as a transshipment hub. It can receive goods from any factory and ship them to any customer. Each warehouse has a maximum handling capacity.\n",
    "- **Customers**: Each customer location has a specific demand that must be met.\n",
    "- **Costs**: The cost of shipping one unit of product varies for each possible route (Factory to Warehouse, and Warehouse to Customer).\n",
    "\n",
    "The challenge is to create a detailed shipping plan that decides exactly how many units to ship along each route to satisfy all customer demands without exceeding supply or warehouse capacities, all while achieving the lowest possible total cost."
   ]
  },
  {
   "cell_type": "markdown",
   "id": "d33869de-f903-4eca-bc7a-0a58b57b0c45",
   "metadata": {},
   "source": [
    "## 3. Methodology\r\n",
    "\r\n",
    "This problem is a classic example of a **Transshipment Problem**, which is an extension of the standard transportation problem. We will formulate this as a Linear Programming (LP) model and use Python to find the optimal solution.\r\n",
    "\r\n",
    "### Tools Used:\r\n",
    "- **Python**: The core programming language.\r\n",
    "- **Pandas**: For loading, manipulating, and preparing the data from CSV files.\r\n",
    "- **Pyomo**: A powerful Python-based, open-source optimization modeling language.\r\n",
    "- **GLPK (GNU Linear Programming Kit)**: An open-source solver that Pyomo will call to find the optimal solution to the LP problem."
   ]
  },
  {
   "cell_type": "markdown",
   "id": "d1b8d7a8-0087-4ec2-b24b-f6ded885e5c5",
   "metadata": {},
   "source": [
    "## Dataset generation"
   ]
  },
  {
   "cell_type": "code",
   "execution_count": 3,
   "id": "271d49ad-7abc-4845-8c93-b10d9f6c0395",
   "metadata": {},
   "outputs": [],
   "source": [
    "import pandas as pd\n",
    "from geopy.distance import geodesic\n",
    "import random"
   ]
  },
  {
   "cell_type": "code",
   "execution_count": 53,
   "id": "70a80a73-267e-40cb-b805-6fd542a302a1",
   "metadata": {},
   "outputs": [
    {
     "name": "stdout",
     "output_type": "stream",
     "text": [
      "         City        Lat       Long country iso2          State\n",
      "0      Abohar  30.144533  74.195520   India   IN         Punjab\n",
      "1    Adilabad  19.400000  78.310000   India   IN      Telangana\n",
      "2    Agartala  23.836049  91.279386   India   IN        Tripura\n",
      "3        Agra  27.187935  78.003944   India   IN  Uttar Pradesh\n",
      "4  Ahmadnagar  19.094571  74.738432   India   IN    Maharashtra\n",
      "5   Ahmedabad  23.025793  72.587265   India   IN        Gujarat\n",
      "6      Aizawl  23.736701  92.714596   India   IN        Mizoram\n",
      "7       Ajmer  26.452103  74.638667   India   IN      Rajasthan\n",
      "8       Akola  20.709569  76.998103   India   IN    Maharashtra\n",
      "9   Alappuzha   9.494647  76.331108   India   IN         Kerala\n"
     ]
    }
   ],
   "source": [
    "#Loading Cities from CSV\n",
    "cities_df = pd.read_csv('Indian Cities Database.csv')\n",
    "cities_df.columns = cities_df.columns.str.strip()\n",
    "cities_df['City'] = cities_df['City'].str.strip()\n",
    "cities = {row['City']: (row['Lat'], row['Long']) for index, row in cities_df.iterrows()}\n",
    "\n",
    "print(cities_df.head(10))"
   ]
  },
  {
   "cell_type": "code",
   "execution_count": 25,
   "id": "306035b1-5eed-402b-88fd-7cd8014d4756",
   "metadata": {},
   "outputs": [
    {
     "name": "stdout",
     "output_type": "stream",
     "text": [
      "  City_ID       City   Latitude  Longitude  Demand\n",
      "0      C1     Mumbai  18.987807  72.836447     727\n",
      "1      C2    Kolkata  22.562627  88.363044     216\n",
      "2      C3       Pune  18.513271  73.849852     329\n",
      "3      C4     Jaipur  26.913312  75.787872     167\n",
      "4      C5  Bengaluru  12.977063  77.587106     180\n",
      "5      C6  Hyderabad  17.384052  78.456355     146\n",
      "6      C7    Gangtok  27.325739  88.612155      93\n",
      "7      C8     Shimla  31.104423  77.166623     113\n",
      "8      C9    Lucknow  26.839281  80.923133     150\n",
      "9     C10     Bhopal  23.254688  77.402892     247\n"
     ]
    }
   ],
   "source": [
    "#creating customer demand dataset\n",
    "\n",
    "#targeted cities\n",
    "customer_cities = ['Mumbai', 'Kolkata', 'Pune', 'Jaipur', 'Bengaluru', 'Hyderabad', 'Gangtok', 'Shimla', 'Lucknow', 'Bhopal']\n",
    "\n",
    "list_of_orders = pd.read_csv('List of Orders.csv')\n",
    "order_details = pd.read_csv('Order Details.csv')\n",
    "    \n",
    "merged_data = pd.merge(order_details, list_of_orders, on='Order ID', how='left')\n",
    "\n",
    "demand = merged_data.groupby('City')['Quantity'].sum().reset_index()\n",
    "demand_dict = demand.set_index('City')['Quantity'].to_dict()\n",
    "\n",
    "city_demand = pd.DataFrame({\n",
    "    'City_ID' : [f'C{i+1}' for i in range(len(customer_cities))],\n",
    "    'City': customer_cities,\n",
    "    'Latitude': [cities[c][0] for c in customer_cities],\n",
    "    'Longitude': [cities[c][1] for c in customer_cities],\n",
    "    'Demand': [demand_dict.get(city, 0) for city in customer_cities]\n",
    "})\n",
    "\n",
    "print(city_demand)"
   ]
  },
  {
   "cell_type": "code",
   "execution_count": 29,
   "id": "c9169917-5c69-4d51-a1cd-b1aa97113cf8",
   "metadata": {},
   "outputs": [
    {
     "data": {
      "text/plain": [
       "2368"
      ]
     },
     "execution_count": 29,
     "metadata": {},
     "output_type": "execute_result"
    }
   ],
   "source": [
    "#total deamnd\n",
    "total_demand = city_demand['Demand'].sum()\n",
    "total_demand"
   ]
  },
  {
   "cell_type": "code",
   "execution_count": 33,
   "id": "da849ad9-3a60-40fe-abcb-a310d1244a10",
   "metadata": {},
   "outputs": [
    {
     "name": "stdout",
     "output_type": "stream",
     "text": [
      "  Factory_ID     City   Latitude  Longitude  Supply_Capacity\n",
      "0         F1    Delhi  28.651952  77.231495             1270\n",
      "1         F2  Chennai  13.084622  80.248357              516\n",
      "2         F3    Surat  21.195944  72.830232             1185\n"
     ]
    }
   ],
   "source": [
    "#creating factories dataset\n",
    "factories = ['Delhi', 'Chennai', 'Surat']\n",
    "\n",
    "factory_data = pd.DataFrame({\n",
    "    'Factory_ID': [f'F{i+1}' for i in range(len(factories))],\n",
    "    'City': factories,\n",
    "    'Latitude': [cities[c][0] for c in factories],\n",
    "    'Longitude': [cities[c][1] for c in factories],\n",
    "    'Supply_Capacity': [random.randint(500, 1500) for _ in factories]\n",
    "})\n",
    "\n",
    "print(factory_data)"
   ]
  },
  {
   "cell_type": "code",
   "execution_count": 35,
   "id": "a8011e26-f026-458e-869d-68bd8725a9fe",
   "metadata": {},
   "outputs": [
    {
     "data": {
      "text/plain": [
       "2971"
      ]
     },
     "execution_count": 35,
     "metadata": {},
     "output_type": "execute_result"
    }
   ],
   "source": [
    "#total supply\n",
    "total_supply = factory_data['Supply_Capacity'].sum()\n",
    "total_supply"
   ]
  },
  {
   "cell_type": "code",
   "execution_count": 41,
   "id": "d91fa753-2cbc-4e01-a66c-0e38de7eef42",
   "metadata": {},
   "outputs": [
    {
     "name": "stdout",
     "output_type": "stream",
     "text": [
      "  Warehouse_ID        City   Latitude  Longitude  Handling_Capacity\n",
      "0           W1  Chandigarh  30.736292  76.788398               1718\n",
      "1           W2      Indore  22.717736  75.858590               1740\n"
     ]
    }
   ],
   "source": [
    "#creating warehouse dataset\n",
    "warehouses = ['Chandigarh', 'Indore']\n",
    "\n",
    "warehouse_data = pd.DataFrame({\n",
    "    'Warehouse_ID': [f'W{i+1}' for i in range(len(warehouses))],\n",
    "    'City': warehouses,\n",
    "    'Latitude': [cities[c][0] for c in warehouses],\n",
    "    'Longitude': [cities[c][1] for c in warehouses],\n",
    "    'Handling_Capacity': [random.randint(800, 2000) for _ in warehouses]\n",
    "})\n",
    "\n",
    "print(warehouse_data)"
   ]
  },
  {
   "cell_type": "code",
   "execution_count": 43,
   "id": "1eeb161e-d8ff-4379-8472-438fafb8fb34",
   "metadata": {},
   "outputs": [
    {
     "name": "stdout",
     "output_type": "stream",
     "text": [
      "    From_Type   From_Node    To_Type     To_Node  Cost_per_Unit\n",
      "0     Factory       Delhi  Warehouse  Chandigarh         704.97\n",
      "1     Factory       Delhi  Warehouse      Indore        2015.05\n",
      "2     Factory     Chennai  Warehouse  Chandigarh        5960.13\n",
      "3     Factory     Chennai  Warehouse      Indore        3488.90\n",
      "4     Factory       Surat  Warehouse  Chandigarh        3385.72\n",
      "5     Factory       Surat  Warehouse      Indore        1065.88\n",
      "6   Warehouse  Chandigarh   Customer      Mumbai        4082.95\n",
      "7   Warehouse  Chandigarh   Customer     Kolkata        4391.99\n",
      "8   Warehouse  Chandigarh   Customer        Pune        4158.16\n",
      "9   Warehouse  Chandigarh   Customer      Jaipur        1304.44\n",
      "10  Warehouse  Chandigarh   Customer   Bengaluru        5904.83\n",
      "11  Warehouse  Chandigarh   Customer   Hyderabad        4465.66\n",
      "12  Warehouse  Chandigarh   Customer     Gangtok        3634.28\n",
      "13  Warehouse  Chandigarh   Customer      Shimla         163.57\n",
      "14  Warehouse  Chandigarh   Customer     Lucknow        1773.28\n",
      "15  Warehouse  Chandigarh   Customer      Bhopal        2493.69\n",
      "16  Warehouse      Indore   Customer      Mumbai        1557.13\n",
      "17  Warehouse      Indore   Customer     Kolkata        3855.29\n",
      "18  Warehouse      Indore   Customer        Pune        1531.14\n",
      "19  Warehouse      Indore   Customer      Jaipur        1394.40\n",
      "20  Warehouse      Indore   Customer   Bengaluru        3280.54\n",
      "21  Warehouse      Indore   Customer   Hyderabad        1949.84\n",
      "22  Warehouse      Indore   Customer     Gangtok        4151.35\n",
      "23  Warehouse      Indore   Customer      Shimla        2814.85\n",
      "24  Warehouse      Indore   Customer     Lucknow        2057.89\n",
      "25  Warehouse      Indore   Customer      Bhopal         507.41\n"
     ]
    }
   ],
   "source": [
    "#Computing Transportation Cost Matrix \n",
    "routes = []\n",
    "cost_per_km = 3  \n",
    "\n",
    "# Factory -> Warehouse routes\n",
    "for f_city in factories:\n",
    "    for w_city in warehouses:\n",
    "        distance = geodesic(cities[f_city], cities[w_city]).km\n",
    "        cost = round(distance * cost_per_km, 2)\n",
    "        routes.append(('Factory', f_city, 'Warehouse', w_city, cost))\n",
    "\n",
    "# Warehouse -> Customer routes\n",
    "for w_city in warehouses:\n",
    "    for c_city in customer_cities:\n",
    "        distance = geodesic(cities[w_city], cities[c_city]).km\n",
    "        cost = round(distance * cost_per_km, 2)\n",
    "        routes.append(('Warehouse', w_city, 'Customer', c_city, cost))\n",
    "    \n",
    "transport_costs = pd.DataFrame(routes, columns=['From_Type', 'From_Node', 'To_Type', 'To_Node', 'Cost_per_Unit'])\n",
    "print(transport_costs)"
   ]
  },
  {
   "cell_type": "code",
   "execution_count": 49,
   "id": "df214506-8eab-4546-8fdf-c291c2cd7162",
   "metadata": {},
   "outputs": [
    {
     "name": "stdout",
     "output_type": "stream",
     "text": [
      "Dataset generation complete!\n",
      "\n",
      "--- Factories ---\n",
      "  Factory_ID     City   Latitude  Longitude  Supply_Capacity\n",
      "0         F1    Delhi  28.651952  77.231495             1270\n",
      "1         F2  Chennai  13.084622  80.248357              516\n",
      "2         F3    Surat  21.195944  72.830232             1185 \n",
      "\n",
      "--- Warehouses ---\n",
      "  Warehouse_ID        City   Latitude  Longitude  Handling_Capacity\n",
      "0           W1  Chandigarh  30.736292  76.788398               1718\n",
      "1           W2      Indore  22.717736  75.858590               1740 \n",
      "\n",
      "--- City Demands ---\n",
      "  City_ID       City   Latitude  Longitude  Demand\n",
      "0      C1     Mumbai  18.987807  72.836447     727\n",
      "1      C2    Kolkata  22.562627  88.363044     216\n",
      "2      C3       Pune  18.513271  73.849852     329\n",
      "3      C4     Jaipur  26.913312  75.787872     167\n",
      "4      C5  Bengaluru  12.977063  77.587106     180\n",
      "5      C6  Hyderabad  17.384052  78.456355     146\n",
      "6      C7    Gangtok  27.325739  88.612155      93\n",
      "7      C8     Shimla  31.104423  77.166623     113\n",
      "8      C9    Lucknow  26.839281  80.923133     150\n",
      "9     C10     Bhopal  23.254688  77.402892     247 \n",
      "\n",
      "---Transport Costs ---\n",
      "  From_Type From_Node    To_Type     To_Node  Cost_per_Unit\n",
      "0   Factory     Delhi  Warehouse  Chandigarh         704.97\n",
      "1   Factory     Delhi  Warehouse      Indore        2015.05\n",
      "2   Factory   Chennai  Warehouse  Chandigarh        5960.13\n",
      "3   Factory   Chennai  Warehouse      Indore        3488.90\n",
      "4   Factory     Surat  Warehouse  Chandigarh        3385.72\n"
     ]
    }
   ],
   "source": [
    "#Export and display\n",
    "factory_data.to_csv('factories.csv', index=False)\n",
    "warehouse_data.to_csv('warehouses.csv', index=False)\n",
    "city_demand.to_csv('customers.csv', index=False)\n",
    "transport_costs.to_csv('transport_costs.csv', index=False)\n",
    "\n",
    "print(\"Dataset generation complete!\\n\")\n",
    "print(\"--- Factories ---\")\n",
    "print(factory_data, \"\\n\")\n",
    "print(\"--- Warehouses ---\")\n",
    "print(warehouse_data, \"\\n\")\n",
    "print(\"--- City Demands ---\")\n",
    "print(city_demand, \"\\n\")\n",
    "print(\"---Transport Costs ---\")\n",
    "print(transport_costs.head())"
   ]
  },
  {
   "cell_type": "markdown",
   "id": "848ed5ec-5453-43e9-a09e-155b9237564a",
   "metadata": {},
   "source": [
    "## 4. Data Preparation\n",
    "\n",
    "In this step, we import the necessary libraries and load our datasets from CSV files. The data is structured into four main components:\n",
    "1.  **Factories**: Locations and supply capacities.\n",
    "2.  **Warehouses**: Locations and handling capacities.\n",
    "3.  **Customers**: Locations and demand requirements.\n",
    "4.  **Transport Costs**: The cost per unit for each valid shipping lane."
   ]
  },
  {
   "cell_type": "code",
   "execution_count": 92,
   "id": "6c8d092f-dcd7-46ee-bad8-a0007b65b361",
   "metadata": {},
   "outputs": [],
   "source": [
    "import pandas as pd\n",
    "import pyomo.environ as pyo\n",
    "\n",
    "#Loading Data from CSV files\n",
    "factories_df = pd.read_csv('factories.csv')\n",
    "warehouses_df = pd.read_csv('warehouses.csv')\n",
    "customers_df = pd.read_csv('customers.csv')\n",
    "costs_df = pd.read_csv('transport_costs.csv')\n",
    "\n",
    "#Data Preparation\n",
    "# Creating dictionaries for easy lookup of capacities, demands, and costs.\n",
    "supply = factories_df.set_index('City')['Supply_Capacity'].to_dict()\n",
    "demand = customers_df.set_index('City')['Demand'].to_dict()\n",
    "warehouse_capacity = warehouses_df.set_index('City')['Handling_Capacity'].to_dict()\n",
    "\n",
    "# Extracting sets for the model\n",
    "factories = list(factories_df['City'])\n",
    "warehouses = list(warehouses_df['City'])\n",
    "customers = list(customers_df['City'])\n",
    "\n",
    "# Creating a nested dictionary for transport costs: costs[from][to]\n",
    "costs = {}\n",
    "for _, row in costs_df.iterrows():\n",
    "    from_node = row['From_Node']\n",
    "    to_node = row['To_Node']\n",
    "    cost_val = row['Cost_per_Unit']\n",
    "    if from_node not in costs:\n",
    "        costs[from_node] = {}\n",
    "    costs[from_node][to_node] = cost_val"
   ]
  },
  {
   "cell_type": "markdown",
   "id": "2c5d72c1-79ca-4284-a16a-c1ebe9e86596",
   "metadata": {},
   "source": [
    "## 5. Model Formulation with Pyomo\n",
    "\n",
    "Now, we define the mathematical model using Pyomo's syntax. This involves specifying the sets, decision variables, objective function, and constraints."
   ]
  },
  {
   "cell_type": "code",
   "execution_count": 94,
   "id": "97d8d1fe-16f5-4124-ad69-2548541f5b06",
   "metadata": {},
   "outputs": [],
   "source": [
    "#Pyomo Model Formulation\n",
    "model = pyo.ConcreteModel()\n",
    "\n",
    "#Defining Sets\n",
    "#These are the indices for our variables and parameters.\n",
    "model.factories = pyo.Set(initialize=factories)\n",
    "model.warehouses = pyo.Set(initialize=warehouses)\n",
    "model.customers = pyo.Set(initialize=customers)\n",
    "\n",
    "#Defining Decision Variables\n",
    "# x[f, w]: Quantity shipped from factory f to warehouse w\n",
    "model.x = pyo.Var(model.factories, model.warehouses, within=pyo.NonNegativeReals)\n",
    "# y[w, c]: Quantity shipped from warehouse w to customer c\n",
    "model.y = pyo.Var(model.warehouses, model.customers, within=pyo.NonNegativeReals)\n",
    "\n",
    "#Defining Objective Function\n",
    "#The goal is to minimize the total transportation cost.\n",
    "def total_cost_rule(model):\n",
    "    cost_fw = sum(costs[f][w] * model.x[f, w] for f in model.factories for w in model.warehouses)\n",
    "    cost_wc = sum(costs[w][c] * model.y[w, c] for w in model.warehouses for c in model.customers)\n",
    "    return cost_fw + cost_wc\n",
    "model.total_cost = pyo.Objective(rule=total_cost_rule, sense=pyo.minimize)\n",
    "\n",
    "#Defining Constraints\n",
    "# a) Supply Constraint: Do not ship more from a factory than its capacity.\n",
    "def supply_rule(model, f):\n",
    "    return sum(model.x[f, w] for w in model.warehouses) <= supply[f]\n",
    "model.supply_constraint = pyo.Constraint(model.factories, rule=supply_rule)\n",
    "\n",
    "# b) Demand Constraint: Ensure each customer's demand is met.\n",
    "def demand_rule(model, c):\n",
    "    return sum(model.y[w, c] for w in model.warehouses) >= demand[c]\n",
    "model.demand_constraint = pyo.Constraint(model.customers, rule=demand_rule)\n",
    "\n",
    "# c) Warehouse Conservation Constraint: The amount shipped out of a warehouse cannot exceed the amount shipped in.\n",
    "def warehouse_flow_rule(model, w):\n",
    "    in_flow = sum(model.x[f, w] for f in model.factories)\n",
    "    out_flow = sum(model.y[w, c] for c in model.customers)\n",
    "    return out_flow <= in_flow\n",
    "model.warehouse_flow_constraint = pyo.Constraint(model.warehouses, rule=warehouse_flow_rule)\n",
    "\n",
    "# d) Warehouse Capacity Constraint: The total flow through a warehouse cannot exceed its handling capacity.\n",
    "def warehouse_capacity_rule(model, w):\n",
    "    # In-flow is a good measure of what the warehouse handles.\n",
    "    return sum(model.x[f, w] for f in model.factories) <= warehouse_capacity[w]\n",
    "model.warehouse_capacity_constraint = pyo.Constraint(model.warehouses, rule=warehouse_capacity_rule)"
   ]
  },
  {
   "cell_type": "markdown",
   "id": "be5d29d7-8cb7-4007-b85e-81c30ac7a25d",
   "metadata": {},
   "source": [
    "## 6. Solving the Model and Analyzing Results\n",
    "\n",
    "With the model fully defined, we can now call the GLPK solver to find the optimal solution. We will then print a clear report of the results, including:\n",
    "- The minimum total cost.\n",
    "- The optimal shipping plan (quantities for each route).\n",
    "- The utilization rates for factories and warehouses to identify potential bottlenecks."
   ]
  },
  {
   "cell_type": "code",
   "execution_count": 97,
   "id": "71c473dd-5f50-4cdc-9336-df6abdaab9f3",
   "metadata": {},
   "outputs": [
    {
     "name": "stdout",
     "output_type": "stream",
     "text": [
      "--- Transshipment Optimization Results ---\n",
      "Solver status: ok\n",
      "Solver termination condition: optimal\n",
      "\n",
      "Optimal Total Cost: ₹7,103,980.28\n",
      "\n",
      "--- Optimal Shipping Plan ---\n",
      "\n",
      "Factory to Warehouse Shipments:\n",
      "  Delhi -> Chandigarh: 739 units\n",
      "  Delhi -> Indore: 444 units\n",
      "  Surat -> Indore: 1185 units\n",
      "\n",
      "Warehouse to Customer Shipments:\n",
      "  Chandigarh -> Kolkata: 216 units\n",
      "  Chandigarh -> Jaipur: 167 units\n",
      "  Chandigarh -> Gangtok: 93 units\n",
      "  Chandigarh -> Shimla: 113 units\n",
      "  Chandigarh -> Lucknow: 150 units\n",
      "  Indore -> Mumbai: 727 units\n",
      "  Indore -> Pune: 329 units\n",
      "  Indore -> Bengaluru: 180 units\n",
      "  Indore -> Hyderabad: 146 units\n",
      "  Indore -> Bhopal: 247 units\n",
      "\n",
      "--- Node Utilization ---\n",
      "\n",
      "Factory Supply Utilization:\n",
      "  Delhi: Used 1183 / 1270 units (93.1%)\n",
      "  Chennai: Used 0 / 516 units (0.0%)\n",
      "  Surat: Used 1185 / 1185 units (100.0%)\n",
      "\n",
      "Warehouse Capacity Utilization:\n",
      "  Chandigarh: Used 739 / 1718 units (43.0%)\n",
      "  Indore: Used 1629 / 1740 units (93.6%)\n"
     ]
    }
   ],
   "source": [
    "solver = pyo.SolverFactory('glpk')\n",
    "results = solver.solve(model)\n",
    "\n",
    "print(\"--- Transshipment Optimization Results ---\")\n",
    "print(f\"Solver status: {results.solver.status}\")\n",
    "print(f\"Solver termination condition: {results.solver.termination_condition}\")\n",
    "\n",
    "if results.solver.termination_condition == pyo.TerminationCondition.optimal:\n",
    "    print(f\"\\nOptimal Total Cost: ₹{pyo.value(model.total_cost):,.2f}\\n\")\n",
    "\n",
    "    print(\"--- Optimal Shipping Plan ---\")\n",
    "    print(\"\\nFactory to Warehouse Shipments:\")\n",
    "    for f in model.factories:\n",
    "        for w in model.warehouses:\n",
    "            if pyo.value(model.x[f, w]) > 0.01:\n",
    "                print(f\"  {f} -> {w}: {pyo.value(model.x[f, w]):.0f} units\")\n",
    "\n",
    "    print(\"\\nWarehouse to Customer Shipments:\")\n",
    "    for w in model.warehouses:\n",
    "        for c in model.customers:\n",
    "            if pyo.value(model.y[w, c]) > 0.01:\n",
    "                print(f\"  {w} -> {c}: {pyo.value(model.y[w, c]):.0f} units\")\n",
    "            \n",
    "    print(\"\\n--- Node Utilization ---\")\n",
    "    print(\"\\nFactory Supply Utilization:\")\n",
    "    for f in factories:\n",
    "        used = sum(pyo.value(model.x[f,w]) for w in warehouses)\n",
    "        print(f\"  {f}: Used {used:.0f} / {supply[f]} units ({used/supply[f]:.1%})\")\n",
    "\n",
    "    print(\"\\nWarehouse Capacity Utilization:\")\n",
    "    for w in warehouses:\n",
    "        used = sum(pyo.value(model.x[f,w]) for f in factories)\n",
    "        print(f\"  {w}: Used {used:.0f} / {warehouse_capacity[w]} units ({used/warehouse_capacity[w]:.1%})\")\n",
    "\n",
    "else:\n",
    "     print(\"\\nCould not find an optimal solution.\")"
   ]
  },
  {
   "cell_type": "markdown",
   "id": "29748e74-c6f3-460b-bbef-0f1026553f5c",
   "metadata": {},
   "source": [
    "## 7. Conclusion & Business Insights\n",
    "\n",
    "The optimization model successfully identified the optimal shipping strategy that minimizes total logistics costs while satisfying all supply, demand, and capacity constraints.\n",
    "\n",
    "### Key Insights:\n",
    "- **Cost Savings**: By following the optimal plan, the company can achieve a minimum transportation cost and a clear, actionable distribution strategy.\n",
    "- **Bottleneck Identification**: The utilization analysis highlights which facilities are operating near their maximum capacity. For example, if a warehouse is consistently at 100% utilization, it may be a candidate for a capacity expansion. Similarly, under-utilized factories might indicate an opportunity to consolidate production.\n",
    "- **Strategic Decision-Making**: This model can be adapted to test various \"what-if\" scenarios, such as: \n",
    "    - What happens if a new warehouse is opened?\n",
    "    - How do changes in fuel prices affect the distribution plan?\n",
    "    - What is the cost impact of a sudden spike in demand in a specific region?\n",
    "\n",
    "This data-driven approach provides a powerful tool for making strategic, cost-saving decisions in supply chain management."
   ]
  }
 ],
 "metadata": {
  "kernelspec": {
   "display_name": "Python 3 (ipykernel)",
   "language": "python",
   "name": "python3"
  },
  "language_info": {
   "codemirror_mode": {
    "name": "ipython",
    "version": 3
   },
   "file_extension": ".py",
   "mimetype": "text/x-python",
   "name": "python",
   "nbconvert_exporter": "python",
   "pygments_lexer": "ipython3",
   "version": "3.12.3"
  }
 },
 "nbformat": 4,
 "nbformat_minor": 5
}
